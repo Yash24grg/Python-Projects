{
 "cells": [
  {
   "cell_type": "code",
   "execution_count": 57,
   "metadata": {},
   "outputs": [
    {
     "name": "stdout",
     "output_type": "stream",
     "text": [
      "153\n",
      "armstron number\n"
     ]
    }
   ],
   "source": [
    "num=int(input(\"enter a number\"))\n",
    "print(num)\n",
    "length=len(str(num))\n",
    "sum=0\n",
    "temp=num\n",
    "for i in range (0,length):\n",
    "    \n",
    "    y=temp%10\n",
    "    sum=sum+(y**length)\n",
    "    temp=temp//10\n",
    "\n",
    "if sum==num:\n",
    "    print(\"armstron number\")\n",
    "else:\n",
    "    print(\"not armstrong\")"
   ]
  }
 ],
 "metadata": {
  "kernelspec": {
   "display_name": "base",
   "language": "python",
   "name": "python3"
  },
  "language_info": {
   "codemirror_mode": {
    "name": "ipython",
    "version": 3
   },
   "file_extension": ".py",
   "mimetype": "text/x-python",
   "name": "python",
   "nbconvert_exporter": "python",
   "pygments_lexer": "ipython3",
   "version": "3.9.13"
  }
 },
 "nbformat": 4,
 "nbformat_minor": 2
}
