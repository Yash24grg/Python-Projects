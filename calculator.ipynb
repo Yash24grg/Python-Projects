{
 "cells": [
  {
   "cell_type": "code",
   "execution_count": 2,
   "metadata": {},
   "outputs": [
    {
     "name": "stdout",
     "output_type": "stream",
     "text": [
      "1 x 1\n",
      "= 1\n"
     ]
    }
   ],
   "source": [
    "def calculator(x,y,op):\n",
    "    if op==\"+\":\n",
    "        print(\"=\",x+y)\n",
    "    elif op==\"-\":\n",
    "        print(\"=\",x-y)\n",
    "    elif op==\"x\":\n",
    "        print(\"=\",x*y)\n",
    "    elif op==\"/\":\n",
    "        print(\"=\",x/y)\n",
    "    elif op==\"^\":\n",
    "        print(\"=\",x**y)\n",
    "        \n",
    "x=int(input(\"enter 1st number: \"))\n",
    "y=int(input(\"enter 2nd number: \"))\n",
    "op=(input(\"choose operation (+,-,x,/,^): \"))\n",
    "          \n",
    "print(x,op,y)\n",
    "\n",
    "calculator(x,y,op)\n"
   ]
  }
 ],
 "metadata": {
  "kernelspec": {
   "display_name": "base",
   "language": "python",
   "name": "python3"
  },
  "language_info": {
   "codemirror_mode": {
    "name": "ipython",
    "version": 3
   },
   "file_extension": ".py",
   "mimetype": "text/x-python",
   "name": "python",
   "nbconvert_exporter": "python",
   "pygments_lexer": "ipython3",
   "version": "3.9.13"
  }
 },
 "nbformat": 4,
 "nbformat_minor": 2
}
