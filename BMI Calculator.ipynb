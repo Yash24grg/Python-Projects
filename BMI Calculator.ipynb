{
 "cells": [
  {
   "cell_type": "code",
   "execution_count": 2,
   "metadata": {},
   "outputs": [
    {
     "name": "stdout",
     "output_type": "stream",
     "text": [
      "4.922796820839606\n",
      "Oops! You are underweight.\n"
     ]
    }
   ],
   "source": [
    "height=int(input(\"Enter height in inches- \"))\n",
    "weight=int(input(\"Enter weight in pounds- \"))\n",
    "BMI= (weight*703)/(height*height)\n",
    "print(BMI)\n",
    "if BMI <= 18.5:  \n",
    "    print(\"Oops! You are underweight.\")  \n",
    "elif BMI <= 24.9:  \n",
    "    print(\"Awesome! You are healthy.\")  \n",
    "elif BMI <= 29.9:  \n",
    "    print(\"Eee! You are overweight.\")  \n",
    "else:  \n",
    "    print(\"Seesh! You are obese.\")  \n",
    "    "
   ]
  },
  {
   "cell_type": "code",
   "execution_count": null,
   "metadata": {},
   "outputs": [],
   "source": []
  }
 ],
 "metadata": {
  "kernelspec": {
   "display_name": "base",
   "language": "python",
   "name": "python3"
  },
  "language_info": {
   "codemirror_mode": {
    "name": "ipython",
    "version": 3
   },
   "file_extension": ".py",
   "mimetype": "text/x-python",
   "name": "python",
   "nbconvert_exporter": "python",
   "pygments_lexer": "ipython3",
   "version": "3.9.13"
  }
 },
 "nbformat": 4,
 "nbformat_minor": 2
}
